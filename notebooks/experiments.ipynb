{
 "cells": [
  {
   "cell_type": "code",
   "execution_count": 33,
   "metadata": {},
   "outputs": [
    {
     "name": "stdout",
     "output_type": "stream",
     "text": [
      "https://user-meilametayebjee-mlflow.user.lab.sspcloud.fr\n",
      "The autoreload extension is already loaded. To reload it, use:\n",
      "  %reload_ext autoreload\n"
     ]
    }
   ],
   "source": [
    "import os\n",
    "import mlflow\n",
    "from scipy.special import softmax\n",
    "import sys\n",
    "import s3fs\n",
    "from typing import List, Optional, Dict\n",
    "import pytorch_lightning as pl\n",
    "import torch\n",
    "from torch import nn\n",
    "from torch.optim import Adam, SGD\n",
    "import pandas as pd\n",
    "import numpy as np\n",
    "import random\n",
    "from sklearn.model_selection import train_test_split\n",
    "from sklearn.preprocessing import LabelEncoder\n",
    "import mlflow\n",
    "import pyarrow.parquet as pq\n",
    "from pytorch_lightning.callbacks import (\n",
    "    EarlyStopping,\n",
    "    LearningRateMonitor,\n",
    "    ModelCheckpoint,\n",
    ")\n",
    "\n",
    "from pytorch_lightning.trainer import Trainer\n",
    "\n",
    "import sys\n",
    "sys.path.append(\"../src/\")\n",
    "\n",
    "from models.model import FastTextModule, FastTextModel\n",
    "from config.dataset import FastTextModelDataset\n",
    "from tokenizer.tokenizer import NGramTokenizer\n",
    "from config.preprocess import clean_text_feature\n",
    "import explainability.utils\n",
    "from explainability.explainability_viz import visualize_word_scores\n",
    "\n",
    "# Automatic discovery : if MLFlow has been launched before Jupyter/VSCode\n",
    "if \"MLFLOW_TRACKING_URI\" in os.environ:\n",
    "    print(os.environ[\"MLFLOW_TRACKING_URI\"])\n",
    "else:\n",
    "    print(\"MLflow was not automatically discovered, a tracking URI must be provided manually.\")\n",
    "\n",
    "%load_ext autoreload\n",
    "%autoreload 2"
   ]
  },
  {
   "cell_type": "code",
   "execution_count": 20,
   "metadata": {},
   "outputs": [],
   "source": [
    "def categorize_surface(\n",
    "    df: pd.DataFrame, surface_feature_name: int, like_sirene_3: bool = True\n",
    ") -> pd.DataFrame:\n",
    "    \"\"\"\n",
    "    Categorize the surface of the activity.\n",
    "\n",
    "    Args:\n",
    "        df (pd.DataFrame): DataFrame to categorize.\n",
    "        surface_feature_name (str): Name of the surface feature.\n",
    "        like_sirene_3 (bool): If True, categorize like Sirene 3.\n",
    "\n",
    "    Returns:\n",
    "        pd.DataFrame: DataFrame with a new column \"surf_cat\".\n",
    "    \"\"\"\n",
    "    df_copy = df.copy()\n",
    "    df_copy[surface_feature_name] = df_copy[surface_feature_name].replace(\"nan\", np.nan)\n",
    "    df_copy[surface_feature_name] = df_copy[surface_feature_name].astype(float)\n",
    "    # Check surface feature exists\n",
    "    if surface_feature_name not in df.columns:\n",
    "        raise ValueError(f\"Surface feature {surface_feature_name} not found in DataFrame.\")\n",
    "    # Check surface feature is a float variable\n",
    "    if not (pd.api.types.is_float_dtype(df_copy[surface_feature_name])):\n",
    "        raise ValueError(f\"Surface feature {surface_feature_name} must be a float variable.\")\n",
    "\n",
    "    if like_sirene_3:\n",
    "        # Categorize the surface\n",
    "        df_copy[\"surf_cat\"] = pd.cut(\n",
    "            df_copy[surface_feature_name],\n",
    "            bins=[0, 120, 400, 2500, np.inf],\n",
    "            labels=[\"1\", \"2\", \"3\", \"4\"],\n",
    "        ).astype(str)\n",
    "    else:\n",
    "        # Log transform the surface\n",
    "        df_copy[\"surf_log\"] = np.log(df[surface_feature_name])\n",
    "\n",
    "        # Categorize the surface\n",
    "        df_copy[\"surf_cat\"] = pd.cut(\n",
    "            df_copy.surf_log,\n",
    "            bins=[0, 3, 4, 5, 12],\n",
    "            labels=[\"1\", \"2\", \"3\", \"4\"],\n",
    "        ).astype(str)\n",
    "\n",
    "    df_copy[surface_feature_name] = df_copy[\"surf_cat\"].replace(\"nan\", \"0\")\n",
    "    df_copy[surface_feature_name] = df_copy[surface_feature_name].astype(int)\n",
    "    df_copy = df_copy.drop(columns=[\"surf_log\", \"surf_cat\"], errors=\"ignore\")\n",
    "    return df_copy"
   ]
  },
  {
   "cell_type": "code",
   "execution_count": null,
   "metadata": {},
   "outputs": [],
   "source": [
    "model_name = \"fasttext-pytorch\"\n",
    "version = 8\n",
    "module = mlflow.pytorch.load_model(model_uri=f\"models:/{model_name}/{version}\")\n",
    "model = module.model"
   ]
  },
  {
   "cell_type": "code",
   "execution_count": null,
   "metadata": {},
   "outputs": [],
   "source": [
    "model_name = \"fasttext\"\n",
    "version = 1\n",
    "fasttext = mlflow.pyfunc.load_model(model_uri=f\"models:/{model_name}/{version}\")"
   ]
  },
  {
   "cell_type": "code",
   "execution_count": 9,
   "metadata": {},
   "outputs": [
    {
     "name": "stderr",
     "output_type": "stream",
     "text": [
      "/tmp/ipykernel_364502/903332157.py:1: FutureWarning: You are using `torch.load` with `weights_only=False` (the current default value), which uses the default pickle module implicitly. It is possible to construct malicious pickle data which will execute arbitrary code during unpickling (See https://github.com/pytorch/pytorch/blob/main/SECURITY.md#untrusted-models for more details). In a future release, the default value for `weights_only` will be flipped to `True`. This limits the functions that could be executed during unpickling. Arbitrary objects will no longer be allowed to be loaded via this mode unless they are explicitly allowlisted by the user via `torch.serialization.add_safe_globals`. We recommend you start setting `weights_only=True` for any use case where you don't have full control of the loaded file. Please open an issue on GitHub for any issues related to this experimental feature.\n",
      "  model = torch.load(\"../src/model.pth\")\n"
     ]
    },
    {
     "data": {
      "text/plain": [
       "FastTextModel(\n",
       "  (embeddings): Embedding(2009604, 180, padding_idx=2009603)\n",
       "  (emb_0): Embedding(2, 180)\n",
       "  (fc): Linear(in_features=180, out_features=607, bias=True)\n",
       ")"
      ]
     },
     "execution_count": 9,
     "metadata": {},
     "output_type": "execute_result"
    }
   ],
   "source": [
    "model = torch.load(\"../src/model.pth\")\n",
    "model.eval()\n",
    "model"
   ]
  },
  {
   "cell_type": "code",
   "execution_count": 10,
   "metadata": {},
   "outputs": [
    {
     "name": "stdout",
     "output_type": "stream",
     "text": [
      "Predictions: 0.18116450309753418\n",
      "Tokenized text: 0.0006380081176757812\n",
      "['gestion', '<ge', 'ges', 'est', 'sti', 'tio', 'ion', 'on>', '<ges', 'gest', 'esti', 'stio', 'tion', 'ion>', '<gest', 'gesti', 'estio', 'stion', 'tion>', '<gesti', 'gestio', 'estion', 'stion>', 'portefeuill', '<po', 'por', 'ort', 'rte', 'tef', 'efe', 'feu', 'eui', 'uil', 'ill', 'll>', '<por', 'port', 'orte', 'rtef', 'tefe', 'efeu', 'feui', 'euil', 'uill', 'ill>', '<port', 'porte', 'ortef', 'rtefe', 'tefeu', 'efeui', 'feuil', 'euill', 'uill>', '<porte', 'portef', 'ortefe', 'rtefeu', 'tefeui', 'efeuil', 'feuill', 'euill>', '<co', 'com', 'omp', 'mpt', 'pt>', '<com', 'comp', 'ompt', 'mpt>', '<comp', 'compt', 'ompt>', '<compt', 'compt>', '<ti', 'tie', 'ier', 'er>', '<tie', 'tier', 'ier>', '<tier', 'tier>', '<tier>', '<fo', 'fon', 'ond', 'nd>', '<fon', 'fond', 'ond>', '<fond', 'fond>', '<fond>', \"<d'\", \"d'i\", \"'in\", 'inv', 'nve', 'ves', 'est', 'st>', \"<d'i\", \"d'in\", \"'inv\", 'inve', 'nves', 'vest', 'est>', \"<d'in\", \"d'inv\", \"'inve\", 'inves', 'nvest', 'vest>', \"<d'inv\", \"d'inve\", \"'inves\", 'invest', 'nvest>', '</s>', 'gestion portefeuill', 'portefeuill compt', 'compt tier', 'tier fond', \"fond d'invest\", \"d'invest </s>\", 'gestion portefeuill compt', 'portefeuill compt tier', 'compt tier fond', \"tier fond d'invest\", \"fond d'invest </s>\"]\n",
      "gestion\n",
      "['gestion', '<ge', 'ges', 'est', 'sti', 'tio', 'ion', 'on>', '<ges', 'gest', 'esti', 'stio', 'tion', 'ion>', '<gest', 'gesti', 'estio', 'stion', 'tion>', '<gesti', 'gestio', 'estion', 'stion>']\n",
      "portefeuill\n",
      "['portefeuill', '<po', 'por', 'ort', 'rte', 'tef', 'efe', 'feu', 'eui', 'uil', 'ill', 'll>', '<por', 'port', 'orte', 'rtef', 'tefe', 'efeu', 'feui', 'euil', 'uill', 'ill>', '<port', 'porte', 'ortef', 'rtefe', 'tefeu', 'efeui', 'feuil', 'euill', 'uill>', '<porte', 'portef', 'ortefe', 'rtefeu', 'tefeui', 'efeuil', 'feuill', 'euill>']\n",
      "compt\n",
      "['<co', 'com', 'omp', 'mpt', 'pt>', '<com', 'comp', 'ompt', 'mpt>', '<comp', 'compt', 'ompt>', '<compt', 'compt>']\n",
      "tier\n",
      "['<ti', 'tie', 'ier', 'er>', '<tie', 'tier', 'ier>', '<tier', 'tier>', '<tier>']\n",
      "fond\n",
      "['<fo', 'fon', 'ond', 'nd>', '<fon', 'fond', 'ond>', '<fond', 'fond>', '<fond>']\n",
      "d'invest\n",
      "[\"<d'\", \"d'i\", \"'in\", 'inv', 'nve', 'ves', 'est', 'st>', \"<d'i\", \"d'in\", \"'inv\", 'inve', 'nves', 'vest', 'est>', \"<d'in\", \"d'inv\", \"'inve\", 'inves', 'nvest', 'vest>', \"<d'inv\", \"d'inve\", \"'inves\", 'invest', 'nvest>']\n",
      "Processed words: 0.0017344951629638672\n",
      "Original words: 0.010672569274902344\n",
      "Letters: 0.05307650566101074\n",
      "Total: 0.2477738857269287\n",
      "[['6430Z' '7010Z' '7022Z' '8211Z' '6630Z']]\n",
      "[[5.02 5.08 5.11 6.2  9.51]]\n"
     ]
    },
    {
     "data": {
      "image/png": "[encoded data removed]",
      "text/plain": [
       "<Figure size 1600x600 with 1 Axes>"
      ]
     },
     "metadata": {},
     "output_type": "display_data"
    },
    {
     "data": {
      "image/png": "[encoded data removed]",
      "text/plain": [
       "<Figure size 1200x500 with 1 Axes>"
      ]
     },
     "metadata": {},
     "output_type": "display_data"
    }
   ],
   "source": [
    "text = [\"Rénovation bâtiments dont: électricité, plomberie, serrurerie, menuiserie\", \"Gestion de portefeuille pour le compte de tiers et gestion de fonds d'investissement\",\n",
    "\"L'acquisition, l'apport, la propriété, la mise en valeur, la transformation, la construction, l'aménagement, l'administration, la location\", \n",
    "\"Saisie de documents et extraction de donnée pour le compte d'entreprises\", \"L'investissement immobilier, l'achat et vente de biens immobiliers en qualité de marchand de Biens, la promotion immobilière, la gestion loc\",\n",
    "\"La Société a pour objet en France et à l'étranger : - l'activité de conseil au profit de toute personne physique ou morale ; - l'enseignement et la formation de toutes matières en cours collectifs et particuliers à domicile ou dans des établissements scolaires\"]\n",
    "\n",
    "text = [\"Gestion de portefeuille pour le compte de tiers et gestion de fonds d'investissement\"]\n",
    "topk = 5\n",
    "params = {'additional_var':[1]*len(text)} \n",
    "pred, confidence, all_scores, all_scores_letters, all_times = model.predict_and_explain(text, params, top_k=topk)\n",
    "print(pred)\n",
    "print(confidence)\n",
    "explainability.explainability_viz.visualize_word_scores(all_scores, text, pred)\n",
    "explainability.explainability_viz.visualize_letter_scores(all_scores_letters, text, pred)\n"
   ]
  },
  {
   "cell_type": "code",
   "execution_count": 44,
   "metadata": {},
   "outputs": [
    {
     "data": {
      "text/plain": [
       "0.9466242959082157"
      ]
     },
     "execution_count": 44,
     "metadata": {},
     "output_type": "execute_result"
    }
   ],
   "source": [
    "all_times = np.array(all_times)\n",
    "\n",
    "all_times[0] / all_times[:-1].sum()"
   ]
  },
  {
   "cell_type": "code",
   "execution_count": 17,
   "metadata": {},
   "outputs": [
    {
     "name": "stderr",
     "output_type": "stream",
     "text": [
      "  0%|          | 0/1000 [00:00<?, ?it/s]"
     ]
    },
    {
     "name": "stderr",
     "output_type": "stream",
     "text": [
      "100%|██████████| 1000/1000 [00:48<00:00, 20.50it/s]\n"
     ]
    }
   ],
   "source": [
    "import time\n",
    "from tqdm import tqdm\n",
    "\n",
    "fasttext_times = []\n",
    "pytorch_times = []\n",
    "pytorch_explain_times = []\n",
    "for i in tqdm(range(1000)):\n",
    "    start = time.time()\n",
    "    _ = fasttext.predict(text)\n",
    "    end = time.time()\n",
    "    fasttext_times.append(end - start)\n",
    "    start = time.time()\n",
    "    _ = model.predict(text, params, explain=False)\n",
    "    end = time.time()\n",
    "    pytorch_times.append(end - start)\n",
    "    start = time.time()\n",
    "    _ = model.predict(text, params, explain=True)\n",
    "    end = time.time()\n",
    "    pytorch_explain_times.append(end - start)"
   ]
  },
  {
   "cell_type": "code",
   "execution_count": 18,
   "metadata": {},
   "outputs": [
    {
     "name": "stdout",
     "output_type": "stream",
     "text": [
      "FastText: 0.0033772013187408447\n",
      "Pytorch: 0.005766731023788452\n",
      "Pytorch Explain: 0.039096372604370114\n"
     ]
    }
   ],
   "source": [
    "print(f\"FastText: {np.mean(fasttext_times)}\")\n",
    "print(f\"Pytorch: {np.mean(pytorch_times)}\")\n",
    "print(f\"Pytorch Explain: {np.mean(pytorch_explain_times)}\")"
   ]
  },
  {
   "cell_type": "code",
   "execution_count": 11,
   "metadata": {},
   "outputs": [],
   "source": [
    "import s3fs\n",
    "fs = s3fs.S3FileSystem(\n",
    "    client_kwargs={\"endpoint_url\": \"https://minio.lab.sspcloud.fr\"})\n",
    "df = (\n",
    "    pq.ParquetDataset(\n",
    "        \"projet-ape/extractions/20241027_sirene4.parquet\",\n",
    "        filesystem=fs,\n",
    "    )\n",
    "    .read_pandas()\n",
    "    .to_pandas()\n",
    "    )\n",
    "\n",
    "df = df.fillna(np.nan)"
   ]
  },
  {
   "cell_type": "code",
   "execution_count": 12,
   "metadata": {},
   "outputs": [],
   "source": [
    "df = df.rename(\n",
    "        columns={\n",
    "            \"evenement_type\": \"EVT\",\n",
    "            \"cj\": \"CJ\",\n",
    "            \"activ_nat_et\": \"NAT\",\n",
    "            \"liasse_type\": \"TYP\",\n",
    "            \"activ_surf_et\": \"SRF\",\n",
    "            \"activ_perm_et\": \"CRT\",\n",
    "        }\n",
    "    )"
   ]
  },
  {
   "cell_type": "code",
   "execution_count": 13,
   "metadata": {},
   "outputs": [
    {
     "name": "stderr",
     "output_type": "stream",
     "text": [
      "/tmp/ipykernel_364502/879717542.py:1: FutureWarning: Setting an item of incompatible dtype is deprecated and will raise an error in a future version of pandas. Value 'nan' has dtype incompatible with float64, please explicitly cast to a compatible dtype first.\n",
      "  df.fillna(\"nan\", inplace=True)\n"
     ]
    }
   ],
   "source": [
    "df.fillna(\"nan\", inplace=True)"
   ]
  },
  {
   "cell_type": "code",
   "execution_count": 14,
   "metadata": {},
   "outputs": [],
   "source": [
    "y = \"apet_finale\"\n",
    "text_feature = \"libelle\"\n",
    "categorical_features = [\"EVT\", \"CJ\", \"NAT\", \"TYP\", \"CRT\", \"SRF\"]\n",
    "cj_mapping = {df[\"CJ\"].unique()[i]: i for i in range(df[\"CJ\"].nunique())}\n",
    "evt_mapping = {df[\"EVT\"].unique()[i]: i for i in range(df[\"EVT\"].nunique())}\n",
    "nat_mapping = {df[\"NAT\"].unique()[i]: i for i in range(df[\"NAT\"].nunique())}\n",
    "typ_mapping = {df[\"TYP\"].unique()[i]: i for i in range(df[\"TYP\"].nunique())}\n",
    "crt_mapping = {df[\"CRT\"].unique()[i]: i for i in range(df[\"CRT\"].nunique())}\n",
    "df[\"CJ\"] = df[\"CJ\"].map(cj_mapping)\n",
    "df[\"EVT\"] = df[\"EVT\"].map(evt_mapping)\n",
    "df[\"NAT\"] = df[\"NAT\"].map(nat_mapping)\n",
    "df[\"TYP\"] = df[\"TYP\"].map(typ_mapping)\n",
    "df[\"CRT\"] = df[\"CRT\"].map(crt_mapping)"
   ]
  },
  {
   "cell_type": "code",
   "execution_count": 15,
   "metadata": {},
   "outputs": [],
   "source": [
    "from sklearn.preprocessing import LabelEncoder\n",
    "encoder = LabelEncoder()\n",
    "df[\"apet_finale\"] = encoder.fit_transform(df[\"apet_finale\"])"
   ]
  },
  {
   "cell_type": "code",
   "execution_count": 16,
   "metadata": {},
   "outputs": [
    {
     "data": {
      "text/plain": [
       "{'nan': 0,\n",
       " '5499': 1,\n",
       " '5485': 2,\n",
       " '5710': 3,\n",
       " '5410': 4,\n",
       " '6540': 5,\n",
       " '5426': 6,\n",
       " '6598': 7,\n",
       " '5415': 8,\n",
       " '6599': 9,\n",
       " '6534': 10,\n",
       " '5306': 11,\n",
       " '5785': 12,\n",
       " '3220': 13,\n",
       " '6533': 14,\n",
       " '5470': 15,\n",
       " '5560': 16,\n",
       " '6220': 17,\n",
       " '6597': 18,\n",
       " '5460': 19,\n",
       " '6536': 20,\n",
       " '6539': 21,\n",
       " '2110': 22,\n",
       " '5458': 23,\n",
       " '6538': 24,\n",
       " '2120': 25,\n",
       " '5453': 26,\n",
       " '5202': 27,\n",
       " '2310': 28,\n",
       " '2320': 29,\n",
       " '2210': 30,\n",
       " '2220': 31,\n",
       " '6585': 32,\n",
       " '5770': 33,\n",
       " '5515': 34,\n",
       " '5510': 35,\n",
       " '5308': 36,\n",
       " '5442': 37,\n",
       " '3290': 38,\n",
       " '5422': 39,\n",
       " '5451': 40,\n",
       " '5599': 41,\n",
       " '3120': 42,\n",
       " '5310': 43,\n",
       " '6521': 44,\n",
       " '3205': 45,\n",
       " '5203': 46,\n",
       " '6316': 47,\n",
       " '6571': 48,\n",
       " '5307': 49,\n",
       " '6901': 50,\n",
       " '3110': 51,\n",
       " '5558': 52,\n",
       " '6560': 53,\n",
       " '5443': 54,\n",
       " '5520': 55,\n",
       " '6210': 56,\n",
       " '9224': 57,\n",
       " '6595': 58,\n",
       " '6318': 59,\n",
       " '6544': 60,\n",
       " '5699': 61,\n",
       " '5505': 62,\n",
       " '5800': 63,\n",
       " '5432': 64,\n",
       " '5431': 65,\n",
       " '4140': 66,\n",
       " '5554': 67,\n",
       " '6317': 68,\n",
       " '4150': 69,\n",
       " '6596': 70,\n",
       " '5552': 71,\n",
       " '5670': 72,\n",
       " '5430': 73,\n",
       " '9220': 74,\n",
       " '5585': 75,\n",
       " '5385': 76,\n",
       " '8210': 77,\n",
       " '9230': 78,\n",
       " '8110': 79,\n",
       " '8420': 80,\n",
       " '9260': 81,\n",
       " '9300': 82,\n",
       " '9210': 83,\n",
       " '8410': 84,\n",
       " '5192': 85,\n",
       " '7354': 86,\n",
       " '7353': 87,\n",
       " '5194': 88,\n",
       " '8310': 89,\n",
       " '2800': 90,\n",
       " '5526': 91,\n",
       " '5484': 92,\n",
       " '9900': 93,\n",
       " '6541': 94,\n",
       " '5660': 95,\n",
       " '5615': 96,\n",
       " '5610': 97,\n",
       " '8450': 98,\n",
       " '4110': 99,\n",
       " '5195': 100,\n",
       " '8490': 101,\n",
       " '7345': 102,\n",
       " '6411': 103,\n",
       " '5196': 104,\n",
       " '8311': 105,\n",
       " '7355': 106,\n",
       " '5720': 107,\n",
       " '6400': 108,\n",
       " '2385': 109,\n",
       " '3210': 110,\n",
       " '2700': 111,\n",
       " '5400': 112,\n",
       " '7410': 113,\n",
       " '9221': 114,\n",
       " '9200': 115,\n",
       " '6537': 116,\n",
       " '5553': 117,\n",
       " '9970': 118,\n",
       " '6532': 119,\n",
       " '5551': 120,\n",
       " '5483': 121,\n",
       " '5786': 122,\n",
       " '5200': 123,\n",
       " '5789': 124,\n",
       " '5741': 125,\n",
       " '5498': 126,\n",
       " '9222': 127,\n",
       " '5685': 128,\n",
       " '5600': 129,\n",
       " '8300': 130,\n",
       " '5632': 131,\n",
       " '6535': 132,\n",
       " '8120': 133,\n",
       " '5651': 134,\n",
       " '5455': 135,\n",
       " '5547': 136,\n",
       " '5792': 137,\n",
       " '5630': 138,\n",
       " '5795': 139,\n",
       " '5711': 140,\n",
       " '8290': 141,\n",
       " '6100': 142,\n",
       " '5546': 143,\n",
       " '2100': 144,\n",
       " '5743': 145}"
      ]
     },
     "execution_count": 16,
     "metadata": {},
     "output_type": "execute_result"
    }
   ],
   "source": [
    "cj_mapping"
   ]
  },
  {
   "cell_type": "code",
   "execution_count": 21,
   "metadata": {},
   "outputs": [
    {
     "name": "stderr",
     "output_type": "stream",
     "text": [
      "/tmp/ipykernel_364502/3403200195.py:16: FutureWarning: Downcasting behavior in `replace` is deprecated and will be removed in a future version. To retain the old behavior, explicitly call `result.infer_objects(copy=False)`. To opt-in to the future behavior, set `pd.set_option('future.no_silent_downcasting', True)`\n",
      "  df_copy[surface_feature_name] = df_copy[surface_feature_name].replace(\"nan\", np.nan)\n"
     ]
    }
   ],
   "source": [
    "df = categorize_surface(df, \"SRF\", like_sirene_3=True)"
   ]
  },
  {
   "cell_type": "code",
   "execution_count": 22,
   "metadata": {},
   "outputs": [],
   "source": [
    "features = [text_feature]\n",
    "if categorical_features is not None:\n",
    "    features += categorical_features\n",
    "X_train, X_val, y_train, y_val = train_test_split(\n",
    "    df[features],\n",
    "    df[y],\n",
    "    test_size=1 - 0.8,\n",
    "    random_state=0,\n",
    "    shuffle=True,\n",
    ")"
   ]
  },
  {
   "cell_type": "code",
   "execution_count": 23,
   "metadata": {},
   "outputs": [],
   "source": [
    "params={\n",
    "\"max_epochs\": 1,\n",
    "\"patience\": 3,\n",
    "\"train_proportion\": 0.8,\n",
    "\"batch_size\": 256,\n",
    "\"lr\": 0.004,\n",
    "\"buckets\": 2000000,\n",
    "\"dim\": 180,\n",
    "\"minCount\": 1,\n",
    "\"minn\": 3,\n",
    "\"maxn\": 6,\n",
    "\"wordNgrams\": 3,\n",
    "\"sparse\": False,\n",
    "}"
   ]
  },
  {
   "cell_type": "code",
   "execution_count": 24,
   "metadata": {},
   "outputs": [],
   "source": [
    "max_epochs = params[\"max_epochs\"]\n",
    "patience = params[\"patience\"]\n",
    "train_proportion = params[\"train_proportion\"]\n",
    "batch_size = params[\"batch_size\"]\n",
    "lr = params[\"lr\"]\n",
    "buckets = params[\"buckets\"]\n",
    "embedding_dim = params[\"dim\"]\n",
    "min_count = params[\"minCount\"]\n",
    "min_n = params[\"minn\"]\n",
    "max_n = params[\"maxn\"]\n",
    "word_ngrams = params[\"wordNgrams\"]\n",
    "sparse = params[\"sparse\"]\n",
    "\n",
    "training_text = X_train[text_feature].to_list()\n",
    "tokenizer = NGramTokenizer(\n",
    "    min_count, min_n, max_n, buckets, word_ngrams, training_text\n",
    ")\n",
    "\n",
    "train_dataset = FastTextModelDataset(\n",
    "    categorical_variables=[\n",
    "        X_train[column].astype(int).to_list() for column in X_train[categorical_features]\n",
    "    ],\n",
    "    texts=training_text,\n",
    "    outputs=y_train.to_list(),\n",
    "    tokenizer=tokenizer,\n",
    ")\n",
    "val_dataset = FastTextModelDataset(\n",
    "    categorical_variables=[\n",
    "        X_val[column].astype(int).to_list() for column in X_val[categorical_features]\n",
    "    ],\n",
    "    texts=X_val[text_feature].to_list(),\n",
    "    outputs=y_val.to_list(),\n",
    "    tokenizer=tokenizer,\n",
    ")\n",
    "train_dataloader = train_dataset.create_dataloader(\n",
    "    batch_size=batch_size, num_workers=2\n",
    ")\n",
    "val_dataloader = val_dataset.create_dataloader(\n",
    "    batch_size=batch_size, num_workers=2\n",
    ")"
   ]
  },
  {
   "cell_type": "code",
   "execution_count": 25,
   "metadata": {},
   "outputs": [
    {
     "name": "stdout",
     "output_type": "stream",
     "text": [
      "(256, 8)\n",
      "(256, 8)\n",
      "max_tokens 1463\n",
      "max_tokens 2559\n",
      "(256, 8)\n",
      "(256, 8)\n",
      "max_tokens 1482\n",
      "max_tokens 1490\n"
     ]
    }
   ],
   "source": [
    "x = next(iter(train_dataloader))"
   ]
  },
  {
   "cell_type": "code",
   "execution_count": 36,
   "metadata": {},
   "outputs": [
    {
     "data": {
      "text/plain": [
       "(tensor([[      1,  521338, 1403470,  ..., 2311331, 2311331, 2311331],\n",
       "         [     14,  748625, 1072288,  ..., 2311331, 2311331, 2311331],\n",
       "         [     17,  409553, 1715648,  ..., 2311331, 2311331, 2311331],\n",
       "         ...,\n",
       "         [2249337, 1161158,  933122,  ..., 2311331, 2311331, 2311331],\n",
       "         [   1137,  895720, 2308077,  ..., 2311331, 2311331, 2311331],\n",
       "         [      1,  521338, 1403470,  ..., 2311331, 2311331, 2311331]]),\n",
       " tensor([ 1,  0, 15,  1,  1,  0,  0, 19,  0,  0,  0,  0,  0,  0,  0,  0,  0, 18,\n",
       "          7,  0,  1,  0,  0, 11,  0,  1, 12,  3,  0,  0,  1,  0, 11,  0, 11,  1,\n",
       "          0,  0,  0,  1,  1, 12,  0,  7,  0,  1, 15,  1,  0,  0,  1,  4,  1, 11,\n",
       "          0,  0,  1,  1,  1,  0, 12,  0, 22,  1,  1,  0, 15,  1,  0, 18, 17,  0,\n",
       "          0,  1,  0,  0,  1,  1,  0,  0,  0,  1,  1,  0,  1, 11,  0,  1,  0,  1,\n",
       "         18,  0, 12,  0, 11, 11,  0,  1,  0, 17,  0,  0, 12,  0,  1,  1,  0,  0,\n",
       "          0,  0,  0,  0,  0,  0,  0,  1,  0,  0, 12,  0,  0,  7,  1,  0,  0,  1,\n",
       "          0,  0, 12,  0, 12,  0,  0, 12,  1,  0,  0, 12,  0,  0,  0,  0,  0,  0,\n",
       "          0,  0,  0, 11,  0,  0,  0, 12,  7,  0,  1, 18,  5,  0,  1,  5,  0, 12,\n",
       "          1, 12,  0,  5, 11,  0,  0, 15, 19,  0,  0, 12,  1,  3,  1, 18,  0, 18,\n",
       "          0,  0,  1,  0,  0,  0,  0,  1,  8,  0,  1, 18,  0, 19,  1,  0,  3, 15,\n",
       "         11, 15,  0,  0,  0,  1,  0,  0,  0,  0, 12,  7,  0, 18, 15,  0,  5,  0,\n",
       "          0,  0,  0, 18,  1,  1,  0,  0,  1, 18,  0, 11,  0,  3,  1, 14,  0,  0,\n",
       "          1,  1,  0,  0,  0,  1,  1,  0,  0,  0,  1, 11,  0,  0,  0,  0,  0,  0,\n",
       "         11, 21,  1,  0]),\n",
       " tensor([ 3,  0,  0,  3,  3,  0,  0,  0,  0,  0,  0,  0,  0,  0,  0,  0,  0,  0,\n",
       "          3,  0,  5,  0,  0,  3,  0,  1,  0, 13,  0,  0,  3,  0,  1,  0,  5,  3,\n",
       "          0,  0,  0,  3,  3,  0,  0,  3,  0,  1,  0,  5,  0,  0,  5, 42,  3,  3,\n",
       "          0,  0,  5,  3,  1,  0,  0,  0,  3,  3,  3,  0,  0,  3,  0,  0,  1,  0,\n",
       "          0,  1,  0,  0,  3,  3,  0,  0,  0,  3,  3,  0,  3,  1,  0,  3,  0,  3,\n",
       "          0,  0,  0,  0,  3,  1,  0,  3,  0, 74,  0,  0,  0,  0,  5,  5,  0,  0,\n",
       "          0,  0,  0,  0,  0,  0,  0,  5,  0,  0,  0,  0,  0,  1,  5,  0,  0,  3,\n",
       "          0,  0,  0,  0,  0,  0,  0,  0,  3,  0,  0,  0,  0,  0,  0,  0,  0,  0,\n",
       "          0,  0,  0,  3,  0,  0,  0,  0,  3,  0,  3,  0, 22,  0,  3, 22,  0,  0,\n",
       "          1,  0,  0, 22,  5,  0,  0,  0,  0,  0,  0,  0,  3, 13,  1,  0,  0,  0,\n",
       "          0,  0,  3,  0,  0,  0,  0,  5,  3,  0,  3,  0,  0,  0,  3,  0, 13,  0,\n",
       "          3,  0,  0,  0,  0,  3,  0,  0,  0,  0,  0,  1,  0,  0,  0,  0, 22,  0,\n",
       "          0,  0,  0,  0,  3,  3,  0,  0,  3,  0,  0,  3,  0, 13,  3,  1,  0,  0,\n",
       "          5,  3,  0,  0,  0,  3,  3,  0,  0,  0,  3,  3,  0,  0,  0,  0,  0,  0,\n",
       "          3,  1,  3,  0]),\n",
       " tensor([0, 1, 1, 1, 0, 0, 0, 0, 0, 1, 0, 0, 3, 0, 3, 1, 0, 1, 0, 1, 1, 1, 0, 4,\n",
       "         1, 3, 7, 1, 3, 1, 0, 1, 0, 1, 1, 0, 1, 0, 1, 0, 0, 3, 3, 0, 1, 0, 0, 1,\n",
       "         0, 1, 1, 0, 0, 0, 0, 0, 1, 0, 6, 3, 0, 1, 0, 4, 0, 3, 1, 0, 1, 1, 0, 0,\n",
       "         1, 0, 0, 1, 5, 0, 1, 4, 0, 0, 0, 1, 0, 0, 1, 0, 1, 0, 1, 1, 1, 1, 1, 1,\n",
       "         0, 0, 0, 0, 0, 1, 1, 1, 1, 1, 0, 4, 1, 0, 0, 3, 1, 5, 0, 1, 3, 1, 1, 0,\n",
       "         0, 0, 1, 0, 1, 0, 0, 0, 0, 0, 1, 1, 1, 1, 0, 1, 1, 7, 1, 1, 1, 0, 0, 1,\n",
       "         1, 2, 1, 0, 1, 3, 1, 1, 6, 2, 0, 1, 1, 1, 3, 1, 0, 1, 3, 1, 1, 1, 1, 0,\n",
       "         1, 1, 0, 0, 1, 4, 0, 1, 4, 1, 5, 1, 1, 0, 0, 1, 0, 1, 1, 1, 0, 1, 6, 1,\n",
       "         1, 0, 0, 1, 1, 3, 0, 0, 0, 3, 0, 0, 1, 0, 0, 1, 1, 0, 1, 0, 1, 1, 1, 1,\n",
       "         1, 1, 0, 4, 0, 5, 0, 1, 0, 0, 0, 0, 1, 1, 0, 4, 4, 0, 1, 5, 0, 1, 0, 5,\n",
       "         0, 1, 1, 1, 0, 0, 1, 4, 0, 1, 3, 1, 0, 6, 0, 1]),\n",
       " tensor([1, 6, 6, 1, 1, 1, 0, 0, 1, 4, 1, 0, 0, 1, 0, 6, 1, 6, 1, 2, 7, 6, 0, 1,\n",
       "         2, 0, 1, 6, 0, 2, 1, 2, 1, 6, 1, 1, 2, 1, 6, 1, 0, 0, 0, 1, 6, 1, 1, 7,\n",
       "         1, 2, 7, 1, 1, 1, 0, 0, 7, 1, 1, 0, 1, 2, 1, 1, 1, 0, 2, 1, 2, 2, 0, 1,\n",
       "         2, 1, 1, 2, 1, 1, 2, 0, 1, 0, 1, 2, 1, 1, 6, 1, 1, 0, 2, 2, 1, 2, 1, 0,\n",
       "         0, 1, 1, 9, 0, 6, 5, 2, 7, 7, 1, 0, 2, 1, 1, 0, 2, 1, 1, 7, 0, 2, 4, 1,\n",
       "         1, 1, 7, 1, 2, 1, 0, 1, 1, 1, 2, 2, 6, 4, 1, 2, 2, 1, 2, 2, 4, 0, 1, 6,\n",
       "         6, 1, 2, 0, 2, 0, 2, 4, 1, 1, 1, 6, 1, 0, 0, 1, 1, 2, 0, 4, 6, 1, 1, 0,\n",
       "         0, 2, 1, 1, 2, 0, 1, 6, 1, 6, 1, 4, 4, 1, 1, 2, 1, 2, 5, 7, 1, 2, 1, 6,\n",
       "         2, 1, 0, 2, 6, 1, 0, 1, 1, 0, 1, 1, 2, 1, 0, 4, 4, 1, 6, 1, 5, 5, 1, 2,\n",
       "         4, 2, 1, 0, 1, 1, 1, 2, 1, 0, 1, 1, 2, 6, 1, 0, 0, 0, 7, 1, 1, 2, 1, 0,\n",
       "         1, 6, 2, 2, 1, 1, 4, 0, 1, 6, 0, 2, 1, 1, 0, 4]),\n",
       " tensor([0, 0, 0, 0, 0, 0, 0, 0, 0, 0, 0, 0, 0, 0, 0, 0, 0, 0, 0, 0, 1, 0, 0, 0,\n",
       "         0, 0, 0, 0, 0, 0, 0, 0, 0, 0, 0, 0, 0, 0, 2, 0, 0, 0, 0, 0, 0, 0, 0, 1,\n",
       "         0, 0, 1, 0, 0, 0, 0, 0, 1, 0, 0, 0, 0, 0, 0, 0, 0, 0, 0, 0, 0, 0, 0, 0,\n",
       "         0, 0, 0, 0, 0, 0, 0, 0, 0, 0, 0, 0, 0, 0, 0, 0, 0, 0, 0, 0, 0, 0, 0, 0,\n",
       "         0, 0, 0, 0, 0, 0, 1, 0, 1, 1, 0, 0, 0, 0, 0, 0, 0, 0, 0, 1, 0, 0, 0, 0,\n",
       "         0, 0, 1, 0, 0, 0, 0, 0, 0, 0, 0, 0, 0, 0, 0, 0, 0, 0, 0, 0, 0, 0, 0, 2,\n",
       "         0, 0, 0, 0, 0, 0, 0, 0, 0, 0, 0, 0, 1, 0, 0, 1, 0, 0, 0, 0, 0, 1, 0, 0,\n",
       "         0, 0, 0, 0, 0, 0, 0, 0, 0, 0, 0, 0, 0, 0, 0, 0, 0, 0, 1, 1, 0, 0, 0, 0,\n",
       "         0, 0, 0, 0, 0, 0, 0, 0, 0, 0, 0, 0, 0, 0, 0, 0, 0, 0, 0, 0, 1, 1, 1, 0,\n",
       "         0, 0, 0, 0, 0, 0, 0, 0, 0, 0, 0, 0, 0, 0, 0, 0, 0, 0, 1, 0, 0, 0, 0, 0,\n",
       "         0, 0, 0, 0, 0, 0, 0, 0, 0, 0, 0, 0, 0, 0, 0, 0]),\n",
       " tensor([0, 0, 0, 0, 0, 0, 0, 0, 0, 0, 0, 0, 0, 0, 0, 0, 0, 0, 0, 0, 0, 0, 0, 0,\n",
       "         0, 0, 0, 0, 0, 0, 0, 0, 0, 0, 0, 0, 0, 0, 0, 0, 0, 0, 0, 0, 0, 0, 0, 0,\n",
       "         0, 0, 0, 0, 0, 0, 0, 0, 0, 0, 0, 0, 0, 0, 0, 0, 0, 0, 0, 0, 0, 0, 0, 0,\n",
       "         0, 0, 0, 0, 1, 0, 0, 0, 0, 0, 0, 0, 0, 0, 0, 0, 0, 0, 0, 0, 0, 0, 0, 0,\n",
       "         0, 0, 0, 0, 0, 0, 0, 0, 0, 0, 0, 0, 0, 0, 0, 0, 0, 0, 0, 0, 0, 0, 0, 0,\n",
       "         0, 0, 0, 0, 0, 0, 0, 0, 0, 0, 0, 0, 0, 0, 0, 0, 0, 0, 0, 0, 0, 0, 0, 0,\n",
       "         0, 0, 0, 0, 0, 0, 0, 0, 0, 0, 0, 0, 0, 0, 0, 0, 0, 0, 0, 0, 0, 0, 0, 0,\n",
       "         0, 0, 0, 0, 0, 0, 0, 0, 0, 0, 1, 0, 0, 0, 0, 0, 0, 0, 0, 0, 0, 0, 0, 0,\n",
       "         0, 0, 0, 0, 0, 0, 0, 0, 0, 0, 0, 0, 0, 0, 0, 0, 0, 0, 0, 0, 0, 0, 0, 0,\n",
       "         0, 0, 0, 0, 0, 3, 0, 0, 0, 0, 0, 0, 0, 0, 0, 0, 0, 0, 0, 1, 0, 0, 0, 2,\n",
       "         0, 0, 0, 0, 0, 0, 0, 0, 0, 0, 0, 0, 0, 0, 0, 0]),\n",
       " tensor([532, 534, 564, 308, 658, 471, 476, 584, 440, 441, 577, 670, 294, 471,\n",
       "         315, 274, 471, 534, 540, 507, 535, 534, 584, 274, 552, 319, 534, 439,\n",
       "         305, 543, 328, 485, 440, 534, 534, 532, 555, 595, 534, 577, 584, 315,\n",
       "         319, 589, 274, 543, 508, 535, 471, 614, 535, 543, 440, 543, 330, 446,\n",
       "         535, 451, 388, 318, 543, 542, 350, 508, 609, 325, 555, 546, 557, 679,\n",
       "         478, 679, 559, 555, 471, 678, 476, 317, 507, 101, 471, 446, 544, 584,\n",
       "         546, 530, 534, 507, 478, 476, 645, 543, 534, 542, 541, 478, 584, 508,\n",
       "         552, 643, 308, 534, 345, 508, 535, 535, 589,  66, 584, 543, 440, 318,\n",
       "         471, 555, 471, 535, 314, 614, 624, 471, 471, 314, 535, 439, 615, 589,\n",
       "         446, 439, 584, 440, 679, 555, 534, 625, 580, 614, 542, 534, 557, 550,\n",
       "         557, 584, 471, 534, 534, 438, 584, 559, 584, 310, 614, 618, 383, 437,\n",
       "         542, 534, 473, 676, 295, 473, 328, 658, 318, 617, 534, 534, 535, 590,\n",
       "         263, 542, 328, 471, 543, 434, 469, 538, 508, 534, 405, 620, 539, 508,\n",
       "         450, 495, 392, 493, 528, 535, 541, 614, 392, 534, 471, 328, 584, 679,\n",
       "         439, 319, 479, 585, 255, 319, 328, 311, 507, 328,  99, 625, 543, 536,\n",
       "         274, 543, 345, 536, 473, 543, 512, 614, 440,  71, 679, 400, 584, 626,\n",
       "         478, 330, 584, 462, 508, 439, 476, 254, 595, 330, 535, 434, 543, 543,\n",
       "         471, 417, 559, 274, 589, 555, 546, 613, 544, 478, 507, 534, 325, 338,\n",
       "         613, 394, 675, 625]))"
      ]
     },
     "execution_count": 36,
     "metadata": {},
     "output_type": "execute_result"
    }
   ],
   "source": [
    "x"
   ]
  },
  {
   "cell_type": "code",
   "execution_count": 26,
   "metadata": {},
   "outputs": [],
   "source": [
    "num_classes = df[y].nunique()\n",
    "categorical_vocabulary_sizes = [\n",
    "    len(np.unique(X_train[feature])) for feature in categorical_features\n",
    "]"
   ]
  },
  {
   "cell_type": "code",
   "execution_count": 34,
   "metadata": {},
   "outputs": [],
   "source": [
    "model = FastTextModel(\n",
    "    tokenizer=tokenizer,\n",
    "    nace_encoder=encoder,\n",
    "    embedding_dim=embedding_dim,\n",
    "    vocab_size=buckets + tokenizer.get_nwords() + 1,\n",
    "    num_classes=num_classes,\n",
    "    categorical_vocabulary_sizes=categorical_vocabulary_sizes,\n",
    "    padding_idx=buckets + tokenizer.get_nwords(),\n",
    "    sparse=sparse,\n",
    ")"
   ]
  },
  {
   "cell_type": "code",
   "execution_count": 36,
   "metadata": {},
   "outputs": [
    {
     "name": "stdout",
     "output_type": "stream",
     "text": [
      "torch.Size([256, 180])\n"
     ]
    },
    {
     "data": {
      "text/plain": [
       "torch.Size([256, 681])"
      ]
     },
     "execution_count": 36,
     "metadata": {},
     "output_type": "execute_result"
    }
   ],
   "source": [
    "model(x[0], x[1:]).shape"
   ]
  }
 ],
 "metadata": {
  "kernelspec": {
   "display_name": "base",
   "language": "python",
   "name": "python3"
  },
  "language_info": {
   "codemirror_mode": {
    "name": "ipython",
    "version": 3
   },
   "file_extension": ".py",
   "mimetype": "text/x-python",
   "name": "python",
   "nbconvert_exporter": "python",
   "pygments_lexer": "ipython3",
   "version": "3.12.6"
  }
 },
 "nbformat": 4,
 "nbformat_minor": 2
}
